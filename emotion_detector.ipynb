{
 "cells": [
  {
   "cell_type": "code",
   "execution_count": 1,
   "metadata": {
    "id": "sCV30xyVhFbE"
   },
   "outputs": [],
   "source": [
    "import tensorflow as tf\n",
    "from keras.preprocessing.image import ImageDataGenerator\n",
    "from tensorflow.keras.optimizers import Adam"
   ]
  },
  {
   "cell_type": "code",
   "execution_count": 2,
   "metadata": {
    "colab": {
     "base_uri": "https://localhost:8080/",
     "height": 36
    },
    "id": "FIleuCAjoFD8",
    "outputId": "ef58ca1f-3687-4e02-90a0-23fac2053804"
   },
   "outputs": [
    {
     "data": {
      "text/plain": [
       "'2.5.0'"
      ]
     },
     "execution_count": 2,
     "metadata": {},
     "output_type": "execute_result"
    }
   ],
   "source": [
    "tf.__version__"
   ]
  },
  {
   "cell_type": "code",
   "execution_count": 3,
   "metadata": {
    "id": "OlH2WYQ5ocVO"
   },
   "outputs": [],
   "source": [
    "train_datagen = ImageDataGenerator(rescale = 1./255,\n",
    "                                   shear_range = 0.2,\n",
    "                                   zoom_range = 0.2,\n",
    "                                   horizontal_flip = True)"
   ]
  },
  {
   "cell_type": "code",
   "execution_count": 4,
   "metadata": {
    "id": "T9It49laowGX"
   },
   "outputs": [],
   "source": [
    "test_datagen = ImageDataGenerator(rescale = 1./255)"
   ]
  },
  {
   "cell_type": "code",
   "execution_count": 5,
   "metadata": {
    "colab": {
     "base_uri": "https://localhost:8080/"
    },
    "id": "0koUcJMJpEBD",
    "outputId": "f6585e74-35b4-42fe-f134-cb024df0a4f9"
   },
   "outputs": [
    {
     "name": "stdout",
     "output_type": "stream",
     "text": [
      "Found 28821 images belonging to 7 classes.\n"
     ]
    }
   ],
   "source": [
    "training_set = train_datagen.flow_from_directory('archive/images/images/train',\n",
    "                                                 target_size = (64, 64),\n",
    "                                                 batch_size = 32,\n",
    "                                                 class_mode = 'categorical')"
   ]
  },
  {
   "cell_type": "code",
   "execution_count": 6,
   "metadata": {
    "colab": {
     "base_uri": "https://localhost:8080/"
    },
    "id": "SH4WzfOhpKc3",
    "outputId": "55def3b6-bfcb-4a1c-8cc9-b6cf1c47b345"
   },
   "outputs": [
    {
     "name": "stdout",
     "output_type": "stream",
     "text": [
      "Found 7066 images belonging to 7 classes.\n"
     ]
    }
   ],
   "source": [
    "test_set = test_datagen.flow_from_directory('archive/images/images/validation',\n",
    "                                            target_size = (64, 64),\n",
    "                                            batch_size = 32,\n",
    "                                            class_mode = 'categorical')"
   ]
  },
  {
   "cell_type": "code",
   "execution_count": 7,
   "metadata": {
    "id": "SAUt4UMPlhLS"
   },
   "outputs": [],
   "source": [
    "cnn = tf.keras.models.Sequential()"
   ]
  },
  {
   "cell_type": "code",
   "execution_count": 8,
   "metadata": {
    "id": "XPzPrMckl-hV"
   },
   "outputs": [],
   "source": [
    "cnn.add(tf.keras.layers.Conv2D(filters=32, kernel_size=3, activation='relu', input_shape=[64, 64, 3]))"
   ]
  },
  {
   "cell_type": "code",
   "execution_count": 9,
   "metadata": {
    "id": "ncpqPl69mOac"
   },
   "outputs": [],
   "source": [
    "cnn.add(tf.keras.layers.MaxPool2D(pool_size=2, strides=2))"
   ]
  },
  {
   "cell_type": "code",
   "execution_count": 10,
   "metadata": {
    "id": "i_-FZjn_m8gk"
   },
   "outputs": [],
   "source": [
    "cnn.add(tf.keras.layers.Conv2D(filters=32, kernel_size=3, activation='relu'))\n",
    "cnn.add(tf.keras.layers.MaxPool2D(pool_size=2, strides=2))"
   ]
  },
  {
   "cell_type": "code",
   "execution_count": 11,
   "metadata": {
    "id": "9-1sizj-e6kk"
   },
   "outputs": [],
   "source": [
    "cnn.add(tf.keras.layers.Conv2D(filters=32, kernel_size=3, activation='relu'))\n",
    "cnn.add(tf.keras.layers.MaxPool2D(pool_size=2, strides=2))"
   ]
  },
  {
   "cell_type": "code",
   "execution_count": 12,
   "metadata": {
    "id": "6AZeOGCvnNZn"
   },
   "outputs": [],
   "source": [
    "cnn.add(tf.keras.layers.Flatten())"
   ]
  },
  {
   "cell_type": "code",
   "execution_count": 13,
   "metadata": {
    "id": "8GtmUlLd26Nq"
   },
   "outputs": [],
   "source": [
    "cnn.add(tf.keras.layers.Dense(units=128, activation='relu'))"
   ]
  },
  {
   "cell_type": "code",
   "execution_count": 14,
   "metadata": {
    "id": "1p_Zj1Mc3Ko_"
   },
   "outputs": [],
   "source": [
    "cnn.add(tf.keras.layers.Dense(units=7, activation='softmax'))"
   ]
  },
  {
   "cell_type": "code",
   "execution_count": 15,
   "metadata": {},
   "outputs": [],
   "source": [
    "optimizer=Adam(learning_rate=0.0001)"
   ]
  },
  {
   "cell_type": "code",
   "execution_count": 16,
   "metadata": {
    "id": "NALksrNQpUlJ"
   },
   "outputs": [],
   "source": [
    "cnn.compile(optimizer =optimizer , loss = 'categorical_crossentropy', metrics = ['accuracy'])"
   ]
  },
  {
   "cell_type": "code",
   "execution_count": 18,
   "metadata": {
    "colab": {
     "base_uri": "https://localhost:8080/",
     "height": 405
    },
    "id": "XUj1W4PJptta",
    "outputId": "4323ed1f-1919-487d-8b49-377f8824ec39"
   },
   "outputs": [
    {
     "name": "stdout",
     "output_type": "stream",
     "text": [
      "Epoch 1/35\n",
      "901/901 [==============================] - 576s 637ms/step - loss: 1.7797 - accuracy: 0.2734 - val_loss: 1.6731 - val_accuracy: 0.3477\n",
      "Epoch 2/35\n",
      "901/901 [==============================] - 84s 94ms/step - loss: 1.6408 - accuracy: 0.3628 - val_loss: 1.5758 - val_accuracy: 0.4018\n",
      "Epoch 3/35\n",
      "901/901 [==============================] - 90s 100ms/step - loss: 1.5868 - accuracy: 0.3863 - val_loss: 1.5291 - val_accuracy: 0.4125\n",
      "Epoch 4/35\n",
      "901/901 [==============================] - 87s 97ms/step - loss: 1.5430 - accuracy: 0.4070 - val_loss: 1.4891 - val_accuracy: 0.4342\n",
      "Epoch 5/35\n",
      "901/901 [==============================] - 87s 97ms/step - loss: 1.5035 - accuracy: 0.4225 - val_loss: 1.4643 - val_accuracy: 0.4353\n",
      "Epoch 6/35\n",
      "901/901 [==============================] - 84s 93ms/step - loss: 1.4708 - accuracy: 0.4337 - val_loss: 1.4353 - val_accuracy: 0.4492\n",
      "Epoch 7/35\n",
      "901/901 [==============================] - 83s 92ms/step - loss: 1.4440 - accuracy: 0.4455 - val_loss: 1.3995 - val_accuracy: 0.4652\n",
      "Epoch 8/35\n",
      "901/901 [==============================] - 84s 93ms/step - loss: 1.4157 - accuracy: 0.4589 - val_loss: 1.3838 - val_accuracy: 0.4663\n",
      "Epoch 9/35\n",
      "901/901 [==============================] - 84s 93ms/step - loss: 1.3881 - accuracy: 0.4693 - val_loss: 1.3691 - val_accuracy: 0.4792\n",
      "Epoch 10/35\n",
      "901/901 [==============================] - 84s 94ms/step - loss: 1.3672 - accuracy: 0.4784 - val_loss: 1.3661 - val_accuracy: 0.4720\n",
      "Epoch 11/35\n",
      "901/901 [==============================] - 92s 102ms/step - loss: 1.3433 - accuracy: 0.4858 - val_loss: 1.3689 - val_accuracy: 0.4764\n",
      "Epoch 12/35\n",
      "901/901 [==============================] - 88s 97ms/step - loss: 1.3272 - accuracy: 0.4935 - val_loss: 1.3091 - val_accuracy: 0.5004\n",
      "Epoch 13/35\n",
      "901/901 [==============================] - 86s 96ms/step - loss: 1.3141 - accuracy: 0.4988 - val_loss: 1.2871 - val_accuracy: 0.5076\n",
      "Epoch 14/35\n",
      "901/901 [==============================] - 86s 96ms/step - loss: 1.2980 - accuracy: 0.5037 - val_loss: 1.2902 - val_accuracy: 0.5058\n",
      "Epoch 15/35\n",
      "901/901 [==============================] - 86s 96ms/step - loss: 1.2860 - accuracy: 0.5098 - val_loss: 1.2946 - val_accuracy: 0.5048\n",
      "Epoch 16/35\n",
      "901/901 [==============================] - 87s 97ms/step - loss: 1.2749 - accuracy: 0.5147 - val_loss: 1.2830 - val_accuracy: 0.5126\n",
      "Epoch 17/35\n",
      "901/901 [==============================] - 170s 189ms/step - loss: 1.2582 - accuracy: 0.5202 - val_loss: 1.2803 - val_accuracy: 0.5095\n",
      "Epoch 18/35\n",
      "901/901 [==============================] - 130s 144ms/step - loss: 1.2453 - accuracy: 0.5247 - val_loss: 1.2490 - val_accuracy: 0.5204\n",
      "Epoch 19/35\n",
      "901/901 [==============================] - 86s 96ms/step - loss: 1.2374 - accuracy: 0.5301 - val_loss: 1.2542 - val_accuracy: 0.5195\n",
      "Epoch 20/35\n",
      "901/901 [==============================] - 87s 97ms/step - loss: 1.2250 - accuracy: 0.5367 - val_loss: 1.2464 - val_accuracy: 0.5269\n",
      "Epoch 21/35\n",
      "901/901 [==============================] - 87s 96ms/step - loss: 1.2133 - accuracy: 0.5387 - val_loss: 1.2266 - val_accuracy: 0.5379\n",
      "Epoch 22/35\n",
      "901/901 [==============================] - 88s 98ms/step - loss: 1.2056 - accuracy: 0.5453 - val_loss: 1.2288 - val_accuracy: 0.5344\n",
      "Epoch 23/35\n",
      "901/901 [==============================] - 89s 99ms/step - loss: 1.1955 - accuracy: 0.5482 - val_loss: 1.2298 - val_accuracy: 0.5345\n",
      "Epoch 24/35\n",
      "901/901 [==============================] - 89s 99ms/step - loss: 1.1894 - accuracy: 0.5499 - val_loss: 1.2055 - val_accuracy: 0.5511\n",
      "Epoch 25/35\n",
      "901/901 [==============================] - 89s 99ms/step - loss: 1.1810 - accuracy: 0.5499 - val_loss: 1.2090 - val_accuracy: 0.5434\n",
      "Epoch 26/35\n",
      "901/901 [==============================] - 88s 98ms/step - loss: 1.1727 - accuracy: 0.5547 - val_loss: 1.2006 - val_accuracy: 0.5481\n",
      "Epoch 27/35\n",
      "901/901 [==============================] - 89s 98ms/step - loss: 1.1679 - accuracy: 0.5616 - val_loss: 1.2073 - val_accuracy: 0.5464\n",
      "Epoch 28/35\n",
      "901/901 [==============================] - 89s 98ms/step - loss: 1.1505 - accuracy: 0.5641 - val_loss: 1.2185 - val_accuracy: 0.5420\n",
      "Epoch 29/35\n",
      "901/901 [==============================] - 88s 98ms/step - loss: 1.1504 - accuracy: 0.5633 - val_loss: 1.2028 - val_accuracy: 0.5487\n",
      "Epoch 30/35\n",
      "901/901 [==============================] - 88s 98ms/step - loss: 1.1386 - accuracy: 0.5715 - val_loss: 1.1870 - val_accuracy: 0.5565\n",
      "Epoch 31/35\n",
      "901/901 [==============================] - 88s 98ms/step - loss: 1.1345 - accuracy: 0.5733 - val_loss: 1.1894 - val_accuracy: 0.5568\n",
      "Epoch 32/35\n",
      "901/901 [==============================] - 87s 96ms/step - loss: 1.1235 - accuracy: 0.5771 - val_loss: 1.1987 - val_accuracy: 0.5505\n",
      "Epoch 33/35\n",
      "901/901 [==============================] - 85s 94ms/step - loss: 1.1169 - accuracy: 0.5796 - val_loss: 1.1731 - val_accuracy: 0.5644\n",
      "Epoch 34/35\n",
      "901/901 [==============================] - 86s 95ms/step - loss: 1.1147 - accuracy: 0.5801 - val_loss: 1.1843 - val_accuracy: 0.5505\n",
      "Epoch 35/35\n",
      "901/901 [==============================] - 85s 95ms/step - loss: 1.1074 - accuracy: 0.5839 - val_loss: 1.1946 - val_accuracy: 0.5536\n"
     ]
    },
    {
     "data": {
      "text/plain": [
       "<tensorflow.python.keras.callbacks.History at 0x17f603735f8>"
      ]
     },
     "execution_count": 18,
     "metadata": {},
     "output_type": "execute_result"
    }
   ],
   "source": [
    "cnn.fit(training_set,validation_data=test_set,epochs=35)"
   ]
  },
  {
   "cell_type": "code",
   "execution_count": 41,
   "metadata": {},
   "outputs": [
    {
     "name": "stdout",
     "output_type": "stream",
     "text": [
      "Predicted Emotion:  Sad\n"
     ]
    },
    {
     "data": {
      "image/png": "[encoded data removed]",
      "text/plain": [
       "<Figure size 432x288 with 1 Axes>"
      ]
     },
     "metadata": {
      "needs_background": "light"
     },
     "output_type": "display_data"
    }
   ],
   "source": [
    "predictEmotion(\"archive/images/images/validation/sad/580.jpg\")"
   ]
  },
  {
   "cell_type": "code",
   "execution_count": 42,
   "metadata": {},
   "outputs": [],
   "source": [
    "cnn.save('trainedmodel.h5')"
   ]
  },
  {
   "cell_type": "code",
   "execution_count": 17,
   "metadata": {},
   "outputs": [],
   "source": [
    "conv=tf.keras.models.load_model('trainedmodel.h5')"
   ]
  },
  {
   "cell_type": "code",
   "execution_count": 18,
   "metadata": {},
   "outputs": [],
   "source": [
    "import cv2\n",
    "from tensorflow.keras.preprocessing import image\n",
    "import matplotlib.pyplot as plt\n",
    "import numpy as np\n",
    "class_names = ['Angry','Disgust','Fear','Happy','Neutral','Sad','Surprise']\n",
    "def predictEmotion(filepath):\n",
    "    \n",
    "    img1 = image.load_img(filepath, target_size = (64,64))\n",
    "    \n",
    "    plt.imshow(img1)\n",
    "    \n",
    "    Y = image.img_to_array(img1, dtype=int)\n",
    "    X = np.expand_dims(Y, axis=0)\n",
    "    \n",
    "    result = conv.predict(X)\n",
    "    index = np.argmax(result)\n",
    "    \n",
    "    #print(index)\n",
    "    \n",
    "    print(\"Predicted Emotion: \", class_names[index])"
   ]
  },
  {
   "cell_type": "code",
   "execution_count": 20,
   "metadata": {},
   "outputs": [
    {
     "name": "stdout",
     "output_type": "stream",
     "text": [
      "Predicted Emotion:  Surprise\n"
     ]
    },
    {
     "data": {
      "image/png": "[encoded data removed]",
      "text/plain": [
       "<Figure size 432x288 with 1 Axes>"
      ]
     },
     "metadata": {
      "needs_background": "light"
     },
     "output_type": "display_data"
    }
   ],
   "source": [
    "predictEmotion(\"archive/images/images/validation/sad/1156.jpg\")"
   ]
  },
  {
   "cell_type": "code",
   "execution_count": null,
   "metadata": {},
   "outputs": [],
   "source": []
  }
 ],
 "metadata": {
  "accelerator": "GPU",
  "colab": {
   "collapsed_sections": [],
   "name": "convolutional_neural_network.ipynb",
   "provenance": []
  },
  "kernelspec": {
   "display_name": "Python 3",
   "language": "python",
   "name": "python3"
  },
  "language_info": {
   "codemirror_mode": {
    "name": "ipython",
    "version": 3
   },
   "file_extension": ".py",
   "mimetype": "text/x-python",
   "name": "python",
   "nbconvert_exporter": "python",
   "pygments_lexer": "ipython3",
   "version": "3.6.13"
  }
 },
 "nbformat": 4,
 "nbformat_minor": 1
}
